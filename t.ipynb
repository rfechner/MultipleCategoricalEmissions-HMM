{
 "cells": [
  {
   "cell_type": "code",
   "execution_count": 1,
   "metadata": {},
   "outputs": [],
   "source": [
    "from src.hmm import MultiCatEmissionHMM\n",
    "import numpy as np"
   ]
  },
  {
   "cell_type": "code",
   "execution_count": 2,
   "metadata": {},
   "outputs": [
    {
     "data": {
      "text/plain": [
       "array([[0.5, 0.2, 0.3, 0.6, 0.4],\n",
       "       [0. , 0.2, 0.8, 0.1, 0.9]])"
      ]
     },
     "execution_count": 2,
     "metadata": {},
     "output_type": "execute_result"
    }
   ],
   "source": [
    "B_1 = np.array([\n",
    "    [0.5, 0.2, 0.3],\n",
    "    [0.0, 0.2, 0.8]\n",
    "])\n",
    "\n",
    "B_2 = np.array([\n",
    "    [0.6, 0.4],\n",
    "    [0.1, 0.9]\n",
    "])\n",
    "\n",
    "Bs = np.concatenate([B_1, B_2], axis=1)\n",
    "Bs"
   ]
  },
  {
   "cell_type": "code",
   "execution_count": 3,
   "metadata": {},
   "outputs": [],
   "source": [
    "hmm = MultiCatEmissionHMM(\n",
    "    init_A = np.array([\n",
    "        [0.7, 0.3],\n",
    "        [0.2, 0.8]\n",
    "    ]),\n",
    "\n",
    "    init_Bs = Bs,\n",
    "\n",
    "    init_pi = np.array(\n",
    "        [0.5, 0.5]\n",
    "    ),\n",
    "\n",
    "    num_emission_symbols = np.array(\n",
    "        [3, 2]\n",
    "    )\n",
    ")"
   ]
  },
  {
   "cell_type": "code",
   "execution_count": 4,
   "metadata": {},
   "outputs": [],
   "source": [
    "observations = [np.array([[0, 1], [1, 0], [1, 1], [1, 0]]), np.array([[0, 1], [1, 0], [0, 0], [1, 1]])]"
   ]
  },
  {
   "cell_type": "code",
   "execution_count": 5,
   "metadata": {},
   "outputs": [
    {
     "data": {
      "text/plain": [
       "[0, 0, 0, 0]"
      ]
     },
     "execution_count": 5,
     "metadata": {},
     "output_type": "execute_result"
    }
   ],
   "source": [
    "hmm.viterbi(Ys=observations[0])"
   ]
  },
  {
   "cell_type": "code",
   "execution_count": 6,
   "metadata": {},
   "outputs": [
    {
     "name": "stderr",
     "output_type": "stream",
     "text": [
      "100%|██████████| 10/10 [00:00<00:00, 502.28it/s]"
     ]
    },
    {
     "name": "stdout",
     "output_type": "stream",
     "text": [
      "[array([0.00095016, 0.00077482]), array([5.46420308e-04, 7.49552388e-05])]\n",
      "0.0001909000000000001 0.001173180117405637\n",
      "[array([0.00660809, 0.00251556]), array([0.0037471 , 0.00025999])]\n",
      "0.001173180117405637 0.006565371529120848\n",
      "[array([0.00740897, 0.00203348]), array([0.00429412, 0.00022589])]\n",
      "0.006565371529120848 0.006981223512610962\n",
      "[array([0.00751843, 0.00194441]), array([0.0043888 , 0.00021175])]\n",
      "0.006981223512610962 0.007031697461991178\n",
      "[array([0.00756192, 0.001999  ]), array([0.00443163, 0.00020848])]\n",
      "0.007031697461991178 0.0071005170675653515\n",
      "[array([0.00760708, 0.00204758]), array([0.00446968, 0.00020747])]\n",
      "0.0071005170675653515 0.007165904276899582\n",
      "[array([0.00764688, 0.00206776]), array([0.00449985, 0.00020648])]\n",
      "0.007165904276899582 0.007210486891524919\n",
      "[array([0.00768038, 0.00207076]), array([0.00452336, 0.00020542])]\n",
      "0.007210486891524919 0.00723995292953873\n",
      "[array([0.00770878, 0.00206586]), array([0.00454227, 0.00020438])]\n",
      "0.00723995292953873 0.007260644403385384\n",
      "[array([0.00773308, 0.0020579 ]), array([0.00455793, 0.00020343])]\n",
      "0.007260644403385384 0.0072761708792303485\n"
     ]
    },
    {
     "name": "stderr",
     "output_type": "stream",
     "text": [
      "\n"
     ]
    }
   ],
   "source": [
    "hmm.fit(observations)"
   ]
  },
  {
   "cell_type": "code",
   "execution_count": 7,
   "metadata": {},
   "outputs": [
    {
     "data": {
      "text/plain": [
       "array([[0.36182671, 0.63817329, 0.        , 0.50972553, 0.49027447],\n",
       "       [0.        , 1.        , 0.        , 0.45557048, 0.54442952]])"
      ]
     },
     "execution_count": 7,
     "metadata": {},
     "output_type": "execute_result"
    }
   ],
   "source": [
    "hmm.Bs"
   ]
  },
  {
   "cell_type": "code",
   "execution_count": 8,
   "metadata": {},
   "outputs": [
    {
     "data": {
      "text/plain": [
       "1.0"
      ]
     },
     "execution_count": 8,
     "metadata": {},
     "output_type": "execute_result"
    }
   ],
   "source": [
    "import numpy as np\n",
    "from scipy.special import kl_div, softmax\n",
    "\n",
    "gt = np.random.random(size=(20,)).astype(np.float64)\n",
    "gt /= gt.sum()\n",
    "gt.sum() "
   ]
  },
  {
   "cell_type": "code",
   "execution_count": 9,
   "metadata": {},
   "outputs": [],
   "source": [
    "params = np.random.random(size=(20,)).astype(np.float64)\n",
    "\n",
    "def kl_divergence(p, q):\n",
    "    return np.sum(np.where(p != 0, p * np.log(p / q), 0))\n",
    "\n",
    "func = lambda x: kl_divergence(gt, softmax(x))\n"
   ]
  },
  {
   "cell_type": "code",
   "execution_count": 10,
   "metadata": {},
   "outputs": [
    {
     "data": {
      "text/plain": [
       "0.10188363730712842"
      ]
     },
     "execution_count": 10,
     "metadata": {},
     "output_type": "execute_result"
    }
   ],
   "source": [
    "func(params)"
   ]
  },
  {
   "cell_type": "code",
   "execution_count": 11,
   "metadata": {},
   "outputs": [],
   "source": [
    "from scipy.optimize import minimize\n",
    "\n",
    "optim_results = minimize(func, x0=params)"
   ]
  },
  {
   "cell_type": "code",
   "execution_count": 12,
   "metadata": {},
   "outputs": [
    {
     "data": {
      "text/plain": [
       "3.465182447850946e-09"
      ]
     },
     "execution_count": 12,
     "metadata": {},
     "output_type": "execute_result"
    }
   ],
   "source": [
    "func(optim_results.x)"
   ]
  },
  {
   "cell_type": "code",
   "execution_count": 13,
   "metadata": {},
   "outputs": [
    {
     "data": {
      "text/plain": [
       "(array([0.28494411, 0.52413616, 0.6136314 , 0.75998437, 0.83289812,\n",
       "        0.65194011, 0.24980404, 0.92921042, 0.10042986, 0.85224165,\n",
       "        0.66790417, 0.21285433, 0.48757106, 0.35100469, 0.83659623,\n",
       "        0.93541758, 0.46782697, 0.35480091, 0.12212223, 0.04047057]),\n",
       " array([0.03707182, 0.0757822 , 0.03949315, 0.05997625, 0.0580253 ,\n",
       "        0.06545243, 0.09821426, 0.09454248, 0.05059853, 0.06686423,\n",
       "        0.03766553, 0.00584065, 0.02257706, 0.03940797, 0.07583694,\n",
       "        0.05030256, 0.03530309, 0.04471975, 0.03535208, 0.00697371]),\n",
       " array([0.0370685 , 0.07578682, 0.03948871, 0.05997472, 0.05802459,\n",
       "        0.06545286, 0.09821229, 0.09455052, 0.05060047, 0.0668634 ,\n",
       "        0.03766428, 0.00583842, 0.02257465, 0.03940502, 0.07583771,\n",
       "        0.0503082 , 0.03530923, 0.04472221, 0.03534425, 0.00697313]))"
      ]
     },
     "execution_count": 13,
     "metadata": {},
     "output_type": "execute_result"
    }
   ],
   "source": [
    "params, softmax(optim_results.x), gt"
   ]
  },
  {
   "cell_type": "code",
   "execution_count": null,
   "metadata": {},
   "outputs": [],
   "source": []
  }
 ],
 "metadata": {
  "kernelspec": {
   "display_name": "generic-hmm",
   "language": "python",
   "name": "python3"
  },
  "language_info": {
   "codemirror_mode": {
    "name": "ipython",
    "version": 3
   },
   "file_extension": ".py",
   "mimetype": "text/x-python",
   "name": "python",
   "nbconvert_exporter": "python",
   "pygments_lexer": "ipython3",
   "version": "3.10.13"
  }
 },
 "nbformat": 4,
 "nbformat_minor": 2
}
