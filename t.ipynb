{
 "cells": [
  {
   "cell_type": "code",
   "execution_count": 1,
   "metadata": {},
   "outputs": [],
   "source": [
    "from src.hmm import MultiCatEmissionHMM\n",
    "import numpy as np"
   ]
  },
  {
   "cell_type": "code",
   "execution_count": 2,
   "metadata": {},
   "outputs": [
    {
     "data": {
      "text/plain": [
       "array([[0.5, 0.2, 0.3, 0.6, 0.4],\n",
       "       [0. , 0.2, 0.8, 0.1, 0.9]])"
      ]
     },
     "execution_count": 2,
     "metadata": {},
     "output_type": "execute_result"
    }
   ],
   "source": [
    "B_1 = np.array([\n",
    "    [0.5, 0.2, 0.3],\n",
    "    [0.0, 0.2, 0.8]\n",
    "])\n",
    "\n",
    "B_2 = np.array([\n",
    "    [0.6, 0.4],\n",
    "    [0.1, 0.9]\n",
    "])\n",
    "\n",
    "Bs = np.concatenate([B_1, B_2], axis=1)\n",
    "Bs"
   ]
  },
  {
   "cell_type": "code",
   "execution_count": 3,
   "metadata": {},
   "outputs": [],
   "source": [
    "hmm = MultiCatEmissionHMM(\n",
    "    init_A = np.array([\n",
    "        [0.7, 0.3],\n",
    "        [0.2, 0.8]\n",
    "    ]),\n",
    "\n",
    "    init_Bs = Bs,\n",
    "\n",
    "    init_pi = np.array(\n",
    "        [0.5, 0.5]\n",
    "    ),\n",
    "\n",
    "    num_emission_symbols = np.array(\n",
    "        [3, 2]\n",
    "    )\n",
    ")"
   ]
  },
  {
   "cell_type": "code",
   "execution_count": 4,
   "metadata": {},
   "outputs": [],
   "source": [
    "observations = np.array([[0, 1], [1, 0], [1, 1], [1, 0]]) # (D, not B), (C, B), (C, not B), (W, B)"
   ]
  },
  {
   "cell_type": "code",
   "execution_count": 5,
   "metadata": {},
   "outputs": [
    {
     "data": {
      "text/plain": [
       "[array([1., 0.]),\n",
       " array([0.93333333, 0.06666667]),\n",
       " array([0.66666667, 0.33333333]),\n",
       " array([0.82222222, 0.17777778])]"
      ]
     },
     "execution_count": 5,
     "metadata": {},
     "output_type": "execute_result"
    }
   ],
   "source": [
    "hmm.predict(Ys=observations)"
   ]
  },
  {
   "cell_type": "code",
   "execution_count": 6,
   "metadata": {},
   "outputs": [
    {
     "data": {
      "text/plain": [
       "[0, 0, 0, 0]"
      ]
     },
     "execution_count": 6,
     "metadata": {},
     "output_type": "execute_result"
    }
   ],
   "source": [
    "hmm.viterbi(Ys=observations)"
   ]
  },
  {
   "cell_type": "code",
   "execution_count": 7,
   "metadata": {},
   "outputs": [
    {
     "ename": "TypeError",
     "evalue": "Can't instantiate abstract class ExpectationMaximization with abstract method optimize",
     "output_type": "error",
     "traceback": [
      "\u001b[0;31m---------------------------------------------------------------------------\u001b[0m",
      "\u001b[0;31mTypeError\u001b[0m                                 Traceback (most recent call last)",
      "Cell \u001b[0;32mIn[7], line 3\u001b[0m\n\u001b[1;32m      1\u001b[0m \u001b[38;5;28;01mfrom\u001b[39;00m \u001b[38;5;21;01msrc\u001b[39;00m\u001b[38;5;21;01m.\u001b[39;00m\u001b[38;5;21;01moptim\u001b[39;00m \u001b[38;5;28;01mimport\u001b[39;00m ExpectationMaximization \u001b[38;5;28;01mas\u001b[39;00m EM\n\u001b[0;32m----> 3\u001b[0m \u001b[43mEM\u001b[49m\u001b[43m(\u001b[49m\u001b[43mhmm\u001b[49m\u001b[43m)\u001b[49m\u001b[38;5;241m.\u001b[39moptimize()\n",
      "\u001b[0;31mTypeError\u001b[0m: Can't instantiate abstract class ExpectationMaximization with abstract method optimize"
     ]
    }
   ],
   "source": [
    "from src.optim import ExpectationMaximization as EM\n",
    "\n",
    "EM(hmm).optimize()"
   ]
  },
  {
   "cell_type": "code",
   "execution_count": null,
   "metadata": {},
   "outputs": [
    {
     "data": {
      "text/plain": [
       "1.0"
      ]
     },
     "execution_count": 7,
     "metadata": {},
     "output_type": "execute_result"
    }
   ],
   "source": [
    "import numpy as np\n",
    "from scipy.special import kl_div, softmax\n",
    "\n",
    "gt = np.random.random(size=(20,)).astype(np.float64)\n",
    "gt /= gt.sum()\n",
    "gt.sum() "
   ]
  },
  {
   "cell_type": "code",
   "execution_count": null,
   "metadata": {},
   "outputs": [],
   "source": [
    "params = np.random.random(size=(20,)).astype(np.float64)\n",
    "\n",
    "def kl_divergence(p, q):\n",
    "    return np.sum(np.where(p != 0, p * np.log(p / q), 0))\n",
    "\n",
    "func = lambda x: kl_divergence(gt, softmax(x))\n"
   ]
  },
  {
   "cell_type": "code",
   "execution_count": null,
   "metadata": {},
   "outputs": [
    {
     "data": {
      "text/plain": [
       "0.31517604612656974"
      ]
     },
     "execution_count": 17,
     "metadata": {},
     "output_type": "execute_result"
    }
   ],
   "source": [
    "func(params)"
   ]
  },
  {
   "cell_type": "code",
   "execution_count": null,
   "metadata": {},
   "outputs": [],
   "source": [
    "from scipy.optimize import minimize\n",
    "\n",
    "optim_results = minimize(func, x0=params)"
   ]
  },
  {
   "cell_type": "code",
   "execution_count": null,
   "metadata": {},
   "outputs": [
    {
     "data": {
      "text/plain": [
       "5.567756584516184e-09"
      ]
     },
     "execution_count": 21,
     "metadata": {},
     "output_type": "execute_result"
    }
   ],
   "source": [
    "func(optim_results.x)"
   ]
  },
  {
   "cell_type": "code",
   "execution_count": null,
   "metadata": {},
   "outputs": [
    {
     "data": {
      "text/plain": [
       "(array([0.71070904, 0.32260829, 0.66607034, 0.69739536, 0.75224878,\n",
       "        0.27679934, 0.67025646, 0.89531649, 0.59291052, 0.79779289,\n",
       "        0.63210647, 0.96909607, 0.33489641, 0.20939145, 0.3725253 ,\n",
       "        0.71812204, 0.64272915, 0.85419084, 0.11499961, 0.35119121]),\n",
       " array([0.01719333, 0.04145686, 0.06934084, 0.040187  , 0.00824475,\n",
       "        0.05585652, 0.03086843, 0.03377262, 0.05731105, 0.13047017,\n",
       "        0.10644186, 0.02736735, 0.0333719 , 0.05179446, 0.08887976,\n",
       "        0.03114011, 0.04737967, 0.00028527, 0.11156971, 0.01706832]),\n",
       " array([0.01719738, 0.04145455, 0.06935031, 0.040189  , 0.00824458,\n",
       "        0.05585038, 0.0308642 , 0.03377511, 0.05730762, 0.1304712 ,\n",
       "        0.10643487, 0.02737304, 0.03337601, 0.05180269, 0.08887533,\n",
       "        0.03113584, 0.04738003, 0.00028577, 0.11156947, 0.01706265]))"
      ]
     },
     "execution_count": 25,
     "metadata": {},
     "output_type": "execute_result"
    }
   ],
   "source": [
    "params, softmax(optim_results.x), gt"
   ]
  },
  {
   "cell_type": "code",
   "execution_count": null,
   "metadata": {},
   "outputs": [],
   "source": []
  }
 ],
 "metadata": {
  "kernelspec": {
   "display_name": "generic-hmm",
   "language": "python",
   "name": "python3"
  },
  "language_info": {
   "codemirror_mode": {
    "name": "ipython",
    "version": 3
   },
   "file_extension": ".py",
   "mimetype": "text/x-python",
   "name": "python",
   "nbconvert_exporter": "python",
   "pygments_lexer": "ipython3",
   "version": "3.10.13"
  }
 },
 "nbformat": 4,
 "nbformat_minor": 2
}
