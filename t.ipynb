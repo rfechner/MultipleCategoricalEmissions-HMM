{
 "cells": [
  {
   "cell_type": "code",
   "execution_count": 1,
   "metadata": {},
   "outputs": [],
   "source": [
    "from src.hmm import MultiCatEmissionHMM\n",
    "import numpy as np"
   ]
  },
  {
   "cell_type": "code",
   "execution_count": 2,
   "metadata": {},
   "outputs": [
    {
     "data": {
      "text/plain": [
       "array([[0.5, 0.2, 0.3, 0.6, 0.4],\n",
       "       [0. , 0.2, 0.8, 0.1, 0.9]])"
      ]
     },
     "execution_count": 2,
     "metadata": {},
     "output_type": "execute_result"
    }
   ],
   "source": [
    "B_1 = np.array([\n",
    "    [0.5, 0.2, 0.3],\n",
    "    [0.0, 0.2, 0.8]\n",
    "])\n",
    "\n",
    "B_2 = np.array([\n",
    "    [0.6, 0.4],\n",
    "    [0.1, 0.9]\n",
    "])\n",
    "\n",
    "Bs = np.concatenate([B_1, B_2], axis=1)\n",
    "Bs"
   ]
  },
  {
   "cell_type": "code",
   "execution_count": 3,
   "metadata": {},
   "outputs": [],
   "source": [
    "hmm = MultiCatEmissionHMM(\n",
    "    init_A = np.array([\n",
    "        [0.7, 0.3],\n",
    "        [0.2, 0.8]\n",
    "    ]),\n",
    "\n",
    "    init_Bs = Bs,\n",
    "\n",
    "    init_pi = np.array(\n",
    "        [0.5, 0.5]\n",
    "    ),\n",
    "\n",
    "    num_emission_symbols = np.array(\n",
    "        [3, 2]\n",
    "    )\n",
    ")"
   ]
  },
  {
   "cell_type": "code",
   "execution_count": 4,
   "metadata": {},
   "outputs": [],
   "source": [
    "observations = [np.array([[0, 1], [1, 0], [1, 1], [1, 0]]), np.array([[0, 1], [1, 0], [0, 0], [1, 1]])]"
   ]
  },
  {
   "cell_type": "code",
   "execution_count": 5,
   "metadata": {},
   "outputs": [
    {
     "data": {
      "text/plain": [
       "[0, 0, 0, 0]"
      ]
     },
     "execution_count": 5,
     "metadata": {},
     "output_type": "execute_result"
    }
   ],
   "source": [
    "hmm.viterbi(Ys=observations[0])"
   ]
  },
  {
   "cell_type": "code",
   "execution_count": 6,
   "metadata": {},
   "outputs": [
    {
     "name": "stderr",
     "output_type": "stream",
     "text": [
      "  0%|          | 0/100 [00:00<?, ?it/s]"
     ]
    },
    {
     "name": "stderr",
     "output_type": "stream",
     "text": [
      "100%|██████████| 100/100 [00:00<00:00, 591.20it/s]"
     ]
    },
    {
     "name": "stdout",
     "output_type": "stream",
     "text": [
      "0.010723467210298444\n",
      "0.011354933170176967\n",
      "0.011441826230042711\n",
      "0.01163320937026847\n",
      "0.011708823837334459\n",
      "0.011686816280644437\n",
      "0.011627349669026642\n",
      "0.011559737042571603\n",
      "0.011494693138477553\n",
      "0.0114356177542874\n",
      "0.011383139729459528\n",
      "0.011336889486652523\n",
      "0.011296197196322834\n",
      "0.011260358944433203\n",
      "0.011228729144451598\n",
      "0.01120074473265451\n",
      "0.011175924057089861\n",
      "0.011153857612211314\n",
      "0.011134197224953863\n",
      "0.011116646029661939\n",
      "0.011100949885520114\n",
      "0.011086890262284908\n",
      "0.011074278415787023\n",
      "0.011062950633587802\n",
      "0.01105276434764726\n",
      "0.011043594943223588\n",
      "0.011035333126050047\n",
      "0.01102788273821097\n",
      "0.011021158936176726\n",
      "0.011015086662656206\n",
      "0.01100959935814072\n",
      "0.011004637869081263\n",
      "0.011000149518270469\n",
      "0.010996087309749537\n",
      "0.010992409245864943\n",
      "0.01098907773828926\n",
      "0.010986059098147028\n",
      "0.01098332309304309\n",
      "0.010980842560921758\n",
      "0.010978593072404973\n",
      "0.010976552634651249\n",
      "0.010974701430912214\n",
      "0.010973021590892935\n",
      "0.010971496987785318\n",
      "0.010970113058474581\n",
      "0.010968856643941115\n",
      "0.010967715847315153\n",
      "0.010966679907405208\n",
      "0.010965739085826081\n",
      "0.010964884566109454\n",
      "0.010964108363396705\n",
      "0.010963403243498347\n",
      "0.01096276265026089\n",
      "0.010962180640315969\n",
      "0.01096165182440172\n",
      "0.010961171314544648\n",
      "0.010960734676475722\n",
      "0.010960337886728188\n",
      "0.010959977293928214\n",
      "0.010959649583845606\n",
      "0.01095935174781992\n",
      "0.010959081054220374\n",
      "0.010958835022634648\n",
      "0.010958611400514993\n",
      "0.01095840814203856\n",
      "0.010958223388964801\n",
      "0.010958055453294853\n",
      "0.010957902801558405\n",
      "0.010957764040571052\n",
      "0.010957637904521044\n",
      "0.010957523243258433\n",
      "0.010957419011672274\n",
      "0.010957324260053032\n",
      "0.01095723812534679\n",
      "0.010957159823217906\n",
      "0.010957088640843778\n",
      "0.010957023930373644\n",
      "0.010956965102989326\n",
      "0.010956911623511744\n",
      "0.0109568630055029\n",
      "0.010956818806816988\n",
      "0.010956778625559375\n",
      "0.010956742096415607\n",
      "0.01095670888731641\n",
      "0.01095667869640769\n",
      "0.010956651249297438\n",
      "0.010956626296554224\n",
      "0.010956603611434012\n",
      "0.010956582987814434\n",
      "0.010956564238317677\n",
      "0.01095654719260427\n",
      "0.010956531695822676\n",
      "0.010956517607200067\n",
      "0.010956504798761488\n",
      "0.01095649315416569\n",
      "0.010956482567647002\n",
      "0.010956472943053613\n",
      "0.01095646419297317\n",
      "0.010956456237938226\n",
      "0.01095644900570382\n"
     ]
    },
    {
     "name": "stderr",
     "output_type": "stream",
     "text": [
      "\n"
     ]
    }
   ],
   "source": [
    "hmm.fit(observations)"
   ]
  },
  {
   "cell_type": "code",
   "execution_count": 7,
   "metadata": {},
   "outputs": [
    {
     "data": {
      "text/plain": [
       "array([[0.38660203, 0.61339797, 0.        , 0.49834764, 0.50165236],\n",
       "       [0.        , 1.        , 0.        , 0.31673772, 0.68326228]])"
      ]
     },
     "execution_count": 7,
     "metadata": {},
     "output_type": "execute_result"
    }
   ],
   "source": [
    "hmm.Bs"
   ]
  },
  {
   "cell_type": "code",
   "execution_count": 8,
   "metadata": {},
   "outputs": [
    {
     "data": {
      "text/plain": [
       "1.0"
      ]
     },
     "execution_count": 8,
     "metadata": {},
     "output_type": "execute_result"
    }
   ],
   "source": [
    "import numpy as np\n",
    "from scipy.special import kl_div, softmax\n",
    "\n",
    "gt = np.random.random(size=(20,)).astype(np.float64)\n",
    "gt /= gt.sum()\n",
    "gt.sum() "
   ]
  },
  {
   "cell_type": "code",
   "execution_count": 9,
   "metadata": {},
   "outputs": [],
   "source": [
    "params = np.random.random(size=(20,)).astype(np.float64)\n",
    "\n",
    "def kl_divergence(p, q):\n",
    "    return np.sum(np.where(p != 0, p * np.log(p / q), 0))\n",
    "\n",
    "func = lambda x: kl_divergence(gt, softmax(x))\n"
   ]
  },
  {
   "cell_type": "code",
   "execution_count": 10,
   "metadata": {},
   "outputs": [
    {
     "data": {
      "text/plain": [
       "0.26059264187414277"
      ]
     },
     "execution_count": 10,
     "metadata": {},
     "output_type": "execute_result"
    }
   ],
   "source": [
    "func(params)"
   ]
  },
  {
   "cell_type": "code",
   "execution_count": 11,
   "metadata": {},
   "outputs": [],
   "source": [
    "from scipy.optimize import minimize\n",
    "\n",
    "optim_results = minimize(func, x0=params)"
   ]
  },
  {
   "cell_type": "code",
   "execution_count": 12,
   "metadata": {},
   "outputs": [
    {
     "data": {
      "text/plain": [
       "4.4398274859606555e-09"
      ]
     },
     "execution_count": 12,
     "metadata": {},
     "output_type": "execute_result"
    }
   ],
   "source": [
    "func(optim_results.x)"
   ]
  },
  {
   "cell_type": "code",
   "execution_count": 13,
   "metadata": {},
   "outputs": [
    {
     "data": {
      "text/plain": [
       "(array([0.99134597, 0.56646038, 0.56132677, 0.70195435, 0.25414078,\n",
       "        0.44882285, 0.72489184, 0.74483942, 0.88110597, 0.18125203,\n",
       "        0.65394145, 0.05632188, 0.56124451, 0.42099012, 0.21603122,\n",
       "        0.39622249, 0.41064124, 0.76806691, 0.92603578, 0.44920796]),\n",
       " array([0.04571894, 0.0347056 , 0.00830453, 0.05140216, 0.01785568,\n",
       "        0.04016334, 0.07777983, 0.01169725, 0.05469597, 0.07962045,\n",
       "        0.0273793 , 0.06059023, 0.09857637, 0.06496407, 0.0624321 ,\n",
       "        0.09012865, 0.00643165, 0.01202882, 0.048256  , 0.10726907]),\n",
       " array([0.04571434, 0.03471136, 0.00830661, 0.05140522, 0.01785976,\n",
       "        0.04015975, 0.07778544, 0.01169576, 0.05469984, 0.07961247,\n",
       "        0.02737552, 0.06058253, 0.09856672, 0.0649722 , 0.06243103,\n",
       "        0.09013092, 0.00643098, 0.0120291 , 0.04825672, 0.10727371]))"
      ]
     },
     "execution_count": 13,
     "metadata": {},
     "output_type": "execute_result"
    }
   ],
   "source": [
    "params, softmax(optim_results.x), gt"
   ]
  },
  {
   "cell_type": "code",
   "execution_count": null,
   "metadata": {},
   "outputs": [],
   "source": []
  }
 ],
 "metadata": {
  "kernelspec": {
   "display_name": "generic-hmm",
   "language": "python",
   "name": "python3"
  },
  "language_info": {
   "codemirror_mode": {
    "name": "ipython",
    "version": 3
   },
   "file_extension": ".py",
   "mimetype": "text/x-python",
   "name": "python",
   "nbconvert_exporter": "python",
   "pygments_lexer": "ipython3",
   "version": "3.10.13"
  }
 },
 "nbformat": 4,
 "nbformat_minor": 2
}
